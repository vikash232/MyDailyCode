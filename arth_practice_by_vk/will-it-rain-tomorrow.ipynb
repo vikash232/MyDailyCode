{
 "cells": [
  {
   "cell_type": "markdown",
   "metadata": {
    "_uuid": "c876bbbd70883cc2746aa3e836ec17a9361aaef7"
   },
   "source": [
    "In this example, I will try to build a model which will predict if it will rain tomorrow!\n",
    "Clearly, it is a classification problem. The model will gives us 2 classes - either YES or NO.\n",
    "We shall try various classifiers to find the best model for the data.\n",
    "\n",
    "**Data Pre-processing**"
   ]
  },
  {
   "cell_type": "code",
   "execution_count": null,
   "metadata": {
    "_cell_guid": "b1076dfc-b9ad-4769-8c92-a6c4dae69d19",
    "_uuid": "8f2839f25d086af736a60e9eeb907d3b93b6e0e5",
    "scrolled": true
   },
   "outputs": [],
   "source": [
    "#Load the csv file as data frame.\n",
    "import numpy as np # linear algebra\n",
    "import pandas as pd # data processing, CSV file I/O (e.g. pd.read_csv)\n",
    "\n",
    "df = pd.read_csv('../input/weatherAUS.csv')\n",
    "print('Size of weather data frame is :',df.shape)\n",
    "#Let us see how our data looks like!\n",
    "df[0:5]"
   ]
  },
  {
   "cell_type": "code",
   "execution_count": null,
   "metadata": {
    "_cell_guid": "79c7e3d0-c299-4dcb-8224-4455121ee9b0",
    "_uuid": "d629ff2d2480ee46fbb7e2d37f6b5fab8052498a",
    "scrolled": true
   },
   "outputs": [],
   "source": [
    "# We see there are some columns with null values. \n",
    "# Before we start pre-processing, let's find out which of the columns have maximum null values\n",
    "df.count().sort_values()"
   ]
  },
  {
   "cell_type": "code",
   "execution_count": null,
   "metadata": {
    "_uuid": "7f52607236f6f0dd243c4d2f0b8d87bc49125cfe"
   },
   "outputs": [],
   "source": [
    "# As we can see the first four columns have less than 60% data, we can ignore these four columns\n",
    "# We don't need the location column because \n",
    "# we are going to find if it will rain in Australia(not location specific)\n",
    "# We are going to drop the date column too.\n",
    "# We need to remove RISK_MM because we want to predict 'RainTomorrow' and RISK_MM can leak some info to our model\n",
    "df = df.drop(columns=['Sunshine','Evaporation','Cloud3pm','Cloud9am','Location','RISK_MM','Date'],axis=1)\n",
    "df.shape"
   ]
  },
  {
   "cell_type": "code",
   "execution_count": null,
   "metadata": {
    "_uuid": "7036fdcaa560b9a551dc75108b2d5e57c77f2273",
    "scrolled": true
   },
   "outputs": [],
   "source": [
    "#Let us get rid of all null values in df\n",
    "df = df.dropna(how='any')\n",
    "df.shape"
   ]
  },
  {
   "cell_type": "code",
   "execution_count": null,
   "metadata": {
    "_uuid": "1f08d316d68e109aeeed8298dcf7cf1b31ec52c3"
   },
   "outputs": [],
   "source": [
    "#its time to remove the outliers in our data - we are using Z-score to detect and remove the outliers.\n",
    "from scipy import stats\n",
    "z = np.abs(stats.zscore(df._get_numeric_data()))\n",
    "print(z)\n",
    "df= df[(z < 3).all(axis=1)]\n",
    "print(df.shape)"
   ]
  },
  {
   "cell_type": "code",
   "execution_count": null,
   "metadata": {
    "_uuid": "8e22c640e544bc53eef8e8b733f1b03b70e92bc7"
   },
   "outputs": [],
   "source": [
    "#Lets deal with the categorical cloumns now\n",
    "# simply change yes/no to 1/0 for RainToday and RainTomorrow\n",
    "df['RainToday'].replace({'No': 0, 'Yes': 1},inplace = True)\n",
    "df['RainTomorrow'].replace({'No': 0, 'Yes': 1},inplace = True)\n",
    "\n",
    "#See unique values and convert them to int using pd.getDummies()\n",
    "categorical_columns = ['WindGustDir', 'WindDir3pm', 'WindDir9am']\n",
    "for col in categorical_columns:\n",
    "    print(np.unique(df[col]))\n",
    "# transform the categorical columns\n",
    "df = pd.get_dummies(df, columns=categorical_columns)\n",
    "df.iloc[4:9]"
   ]
  },
  {
   "cell_type": "code",
   "execution_count": null,
   "metadata": {
    "_uuid": "6c2656d58ffacc4b757fea3ec3c489c47eb5ca76"
   },
   "outputs": [],
   "source": [
    "#next step is to standardize our data - using MinMaxScaler\n",
    "from sklearn import preprocessing\n",
    "scaler = preprocessing.MinMaxScaler()\n",
    "scaler.fit(df)\n",
    "df = pd.DataFrame(scaler.transform(df), index=df.index, columns=df.columns)\n",
    "df.iloc[4:10]"
   ]
  },
  {
   "cell_type": "markdown",
   "metadata": {
    "_uuid": "2d005712b4e5f66521a9def03efb95d295efa735"
   },
   "source": [
    "**Feature Selection**"
   ]
  },
  {
   "cell_type": "code",
   "execution_count": null,
   "metadata": {
    "_uuid": "5d997dd8dfeb8e5b365660bd4de0418bc960870d",
    "scrolled": true
   },
   "outputs": [],
   "source": [
    "#now that we are done with the pre-processing part, let's see which are the important features for RainTomorrow!\n",
    "#Using SelectKBest to get the top features!\n",
    "from sklearn.feature_selection import SelectKBest, chi2\n",
    "X = df.loc[:,df.columns!='RainTomorrow']\n",
    "y = df[['RainTomorrow']]\n",
    "selector = SelectKBest(chi2, k=3)\n",
    "selector.fit(X, y)\n",
    "X_new = selector.transform(X)\n",
    "print(X.columns[selector.get_support(indices=True)]) #top 3 columns"
   ]
  },
  {
   "cell_type": "code",
   "execution_count": null,
   "metadata": {
    "_uuid": "9c63d906affa6ab162f67f5c52885da35f0cc8ce"
   },
   "outputs": [],
   "source": [
    "#Let's get hold of the important features as assign them as X\n",
    "df = df[['Humidity3pm','Rainfall','RainToday','RainTomorrow']]\n",
    "X = df[['Humidity3pm']] # let's use only one feature Humidity3pm\n",
    "y = df[['RainTomorrow']]"
   ]
  },
  {
   "cell_type": "markdown",
   "metadata": {
    "_uuid": "3d9180dc2e0e64fa80f96b13867f4312e71dccc7"
   },
   "source": [
    "**Finding the best model**"
   ]
  },
  {
   "cell_type": "code",
   "execution_count": null,
   "metadata": {
    "_uuid": "c3c56453b4ded8e113c8ca788f1270451d8f697a"
   },
   "outputs": [],
   "source": [
    "#Logistic Regression \n",
    "from sklearn.linear_model import LogisticRegression\n",
    "from sklearn.model_selection import train_test_split\n",
    "from sklearn.metrics import accuracy_score\n",
    "import time\n",
    "\n",
    "t0=time.time()\n",
    "X_train,X_test,y_train,y_test = train_test_split(X,y,test_size=0.25)\n",
    "clf_logreg = LogisticRegression(random_state=0)\n",
    "clf_logreg.fit(X_train,y_train)\n",
    "y_pred = clf_logreg.predict(X_test)\n",
    "score = accuracy_score(y_test,y_pred)\n",
    "print('Accuracy :',score)\n",
    "print('Time taken :' , time.time()-t0)\n"
   ]
  },
  {
   "cell_type": "code",
   "execution_count": null,
   "metadata": {
    "_uuid": "3f3f7042c83187b41dd0e1fd67dcb881ed3b6a17",
    "scrolled": true
   },
   "outputs": [],
   "source": [
    "#Random Forest Classifier \n",
    "from sklearn.ensemble import RandomForestClassifier\n",
    "from sklearn.model_selection import train_test_split\n",
    "\n",
    "t0=time.time()\n",
    "X_train,X_test,y_train,y_test = train_test_split(X,y,test_size=0.25)\n",
    "clf_rf = RandomForestClassifier(n_estimators=100, max_depth=4,random_state=0)\n",
    "clf_rf.fit(X_train,y_train)\n",
    "y_pred = clf_rf.predict(X_test)\n",
    "score = accuracy_score(y_test,y_pred)\n",
    "print('Accuracy :',score)\n",
    "print('Time taken :' , time.time()-t0)"
   ]
  },
  {
   "cell_type": "code",
   "execution_count": null,
   "metadata": {
    "_uuid": "e5e3a66bddcfa113062819463fbde37f7c527fea"
   },
   "outputs": [],
   "source": [
    "#Decision Tree Classifier\n",
    "from sklearn.tree import DecisionTreeClassifier\n",
    "from sklearn.model_selection import train_test_split\n",
    "\n",
    "t0=time.time()\n",
    "X_train,X_test,y_train,y_test = train_test_split(X,y,test_size=0.25)\n",
    "clf_dt = DecisionTreeClassifier(random_state=0)\n",
    "clf_dt.fit(X_train,y_train)\n",
    "y_pred = clf_dt.predict(X_test)\n",
    "score = accuracy_score(y_test,y_pred)\n",
    "print('Accuracy :',score)\n",
    "print('Time taken :' , time.time()-t0)"
   ]
  },
  {
   "cell_type": "code",
   "execution_count": null,
   "metadata": {
    "_uuid": "e9f2db3c3bcbe9c290f075c60948d34805201694"
   },
   "outputs": [],
   "source": [
    "#Support Vector Machine\n",
    "from sklearn import svm\n",
    "from sklearn.model_selection import train_test_split\n",
    "\n",
    "t0=time.time()\n",
    "X_train,X_test,y_train,y_test = train_test_split(X,y,test_size=0.25)\n",
    "clf_svc = svm.SVC(kernel='linear')\n",
    "clf_svc.fit(X_train,y_train)\n",
    "y_pred = clf_svc.predict(X_test)\n",
    "score = accuracy_score(y_test,y_pred)\n",
    "print('Accuracy :',score)\n",
    "print('Time taken :' , time.time()-t0)"
   ]
  },
  {
   "cell_type": "markdown",
   "metadata": {
    "_uuid": "43664255cd95f353d5183090d17ad9bfd8bc7ffb"
   },
   "source": [
    "All models give an accuracy score of ~ 83-84 % except for SVM.\n",
    "Considering the computation time,  DecisionTreeClassifier is best."
   ]
  }
 ],
 "metadata": {
  "kernelspec": {
   "display_name": "Python 3",
   "language": "python",
   "name": "python3"
  },
  "language_info": {
   "codemirror_mode": {
    "name": "ipython",
    "version": 3
   },
   "file_extension": ".py",
   "mimetype": "text/x-python",
   "name": "python",
   "nbconvert_exporter": "python",
   "pygments_lexer": "ipython3",
   "version": "3.8.3"
  }
 },
 "nbformat": 4,
 "nbformat_minor": 1
}
