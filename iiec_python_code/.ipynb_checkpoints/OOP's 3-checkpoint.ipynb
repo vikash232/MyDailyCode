{
 "cells": [
  {
   "cell_type": "code",
   "execution_count": 5,
   "metadata": {},
   "outputs": [],
   "source": [
    "class visitor:\n",
    "    \n",
    "    region = 'IN'\n",
    "    \n",
    "    def get_region():\n",
    "        return region\n",
    "    \n",
    "    def __init__(self, first, last, mob):\n",
    "        self.firstname = first\n",
    "        self.lastname = last\n",
    "        self.mobile = mob\n",
    "        \n",
    "    # instance method : getter   \n",
    "    def get_fullname(self):\n",
    "        return self.firstname + \" \" + self.lastname\n",
    "    \n",
    "    # instance method : setter\n",
    "    def set_mobile(self, newmob):\n",
    "        self.mobile = newmob"
   ]
  },
  {
   "cell_type": "code",
   "execution_count": 6,
   "metadata": {},
   "outputs": [
    {
     "data": {
      "text/plain": [
       "'\\nclass emp(visitor):\\n    \\n    def __init__(self, title):\\n        self.jobtitle = title\\n'"
      ]
     },
     "execution_count": 6,
     "metadata": {},
     "output_type": "execute_result"
    }
   ],
   "source": [
    "\"\"\"\n",
    "class emp(visitor):\n",
    "    \n",
    "    def __init__(self, title):\n",
    "        self.jobtitle = title\n",
    "\"\"\""
   ]
  },
  {
   "cell_type": "code",
   "execution_count": 7,
   "metadata": {},
   "outputs": [],
   "source": [
    "#jack = emp( title='manager')"
   ]
  },
  {
   "cell_type": "code",
   "execution_count": 8,
   "metadata": {},
   "outputs": [],
   "source": [
    "#jack.__dict__"
   ]
  },
  {
   "cell_type": "code",
   "execution_count": 9,
   "metadata": {},
   "outputs": [],
   "source": [
    "class emp(visitor):\n",
    "    def __init__(self, first, last, mob, title ):\n",
    "        #super().__init__(first, last, mob )\n",
    "        self.jobtitle = title"
   ]
  },
  {
   "cell_type": "code",
   "execution_count": null,
   "metadata": {},
   "outputs": [],
   "source": []
  },
  {
   "cell_type": "code",
   "execution_count": 10,
   "metadata": {},
   "outputs": [],
   "source": [
    "#help(emp)"
   ]
  },
  {
   "cell_type": "code",
   "execution_count": 11,
   "metadata": {},
   "outputs": [],
   "source": [
    "jack = emp( first='jack', last='xyz', mob=1234, title='manager')"
   ]
  },
  {
   "cell_type": "code",
   "execution_count": 12,
   "metadata": {},
   "outputs": [
    {
     "data": {
      "text/plain": [
       "<__main__.emp at 0x1a12f853580>"
      ]
     },
     "execution_count": 12,
     "metadata": {},
     "output_type": "execute_result"
    }
   ],
   "source": [
    "jack"
   ]
  },
  {
   "cell_type": "code",
   "execution_count": null,
   "metadata": {},
   "outputs": [],
   "source": []
  }
 ],
 "metadata": {
  "kernelspec": {
   "display_name": "Python 3",
   "language": "python",
   "name": "python3"
  },
  "language_info": {
   "codemirror_mode": {
    "name": "ipython",
    "version": 3
   },
   "file_extension": ".py",
   "mimetype": "text/x-python",
   "name": "python",
   "nbconvert_exporter": "python",
   "pygments_lexer": "ipython3",
   "version": "3.8.3"
  }
 },
 "nbformat": 4,
 "nbformat_minor": 4
}
